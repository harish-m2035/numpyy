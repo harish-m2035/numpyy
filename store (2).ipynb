{
 "cells": [
  {
   "cell_type": "code",
   "execution_count": 59,
   "id": "81094acd",
   "metadata": {},
   "outputs": [
    {
     "name": "stdout",
     "output_type": "stream",
     "text": [
      "       a  b  c\n",
      "one    1  2  3\n",
      "two    4  5  6\n",
      "three  7  8  9\n"
     ]
    }
   ],
   "source": [
    "#store\n",
    "import pandas as pd\n",
    "df=pd.DataFrame(([1,2,3],[4,5,6],[7,8,9]),index=['one','two','three'],columns=['a','b','c'])\n",
    "print(df)"
   ]
  },
  {
   "cell_type": "code",
   "execution_count": 60,
   "id": "9413a57f",
   "metadata": {},
   "outputs": [],
   "source": [
    "df.to_excel(\"C:\\\\Users\\\\REC\\\\Downloads\\\\dee.xlsx\")\n",
    "df.to_excel(\"C:\\\\Users\\\\REC\\\\Downloads\\\\pika.xlsx\")"
   ]
  },
  {
   "cell_type": "code",
   "execution_count": 61,
   "id": "6b4591e6",
   "metadata": {},
   "outputs": [],
   "source": [
    "df=pd.DataFrame(([10,20,30],[40,50,60],[70,80,90]),index=['four','five','six'],columns=['x','y','z'])\n",
    "df.to_excel(\"C:\\\\Users\\\\REC\\\\Downloads\\\\pika.xlsx\",sheet_name=\"marks\")"
   ]
  },
  {
   "cell_type": "code",
   "execution_count": 64,
   "id": "5e59fcbb",
   "metadata": {},
   "outputs": [],
   "source": [
    "x=pd.read_excel(\"C:\\\\Users\\\\REC\\\\Downloads\\\\dee.xlsx\")\n",
    "y=pd.read_excel(\"C:\\\\Users\\\\REC\\\\Downloads\\\\pika.xlsx\")\n",
    "z=pd.concat([x,y])\n",
    "z.to_excel(\"C:\\\\Users\\\\REC\\\\Downloads\\\\sai.xlsx\")"
   ]
  },
  {
   "cell_type": "code",
   "execution_count": null,
   "id": "45a8e16e",
   "metadata": {},
   "outputs": [],
   "source": []
  },
  {
   "cell_type": "code",
   "execution_count": null,
   "id": "512c29ff",
   "metadata": {},
   "outputs": [],
   "source": []
  },
  {
   "cell_type": "code",
   "execution_count": null,
   "id": "e28bef9c",
   "metadata": {},
   "outputs": [],
   "source": []
  },
  {
   "cell_type": "code",
   "execution_count": null,
   "id": "13cb45ce",
   "metadata": {},
   "outputs": [],
   "source": []
  }
 ],
 "metadata": {
  "kernelspec": {
   "display_name": "Python 3 (ipykernel)",
   "language": "python",
   "name": "python3"
  },
  "language_info": {
   "codemirror_mode": {
    "name": "ipython",
    "version": 3
   },
   "file_extension": ".py",
   "mimetype": "text/x-python",
   "name": "python",
   "nbconvert_exporter": "python",
   "pygments_lexer": "ipython3",
   "version": "3.11.5"
  }
 },
 "nbformat": 4,
 "nbformat_minor": 5
}
