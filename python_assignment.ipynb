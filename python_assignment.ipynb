{
 "cells": [
  {
   "cell_type": "code",
   "execution_count": 4,
   "id": "a7d23148",
   "metadata": {},
   "outputs": [
    {
     "name": "stdout",
     "output_type": "stream",
     "text": [
      "\n",
      "One dimensional array: [ 1  2  3 11 16 24 40]\n",
      "\n",
      "Type: int32\n",
      "\n",
      "Shape of array: (7,)\n",
      "\n",
      "Array size: 7\n",
      "\n",
      "Array length: 7\n",
      "\n",
      "Reversed array: [40 24 16 11  3  2  1]\n",
      "\n",
      "Sliced array: [ 3 11 16 24]\n",
      "\n",
      "Elements greater than 7: [11 16 24 40]\n"
     ]
    }
   ],
   "source": [
    "#Create an 1-D array. Determine which data type, shape, size, length, reversed array, slice the array, print the data which is greater thean 7.\n",
    "import numpy as np\n",
    "a=np.array([1,2,3,11,16,24,40])\n",
    "print(\"\\nOne dimensional array:\",a)\n",
    "print(\"\\nType:\",a.dtype)\n",
    "print(\"\\nShape of array:\",a.shape)\n",
    "print(\"\\nArray size:\", a.size)\n",
    "print(\"\\nArray length:\",len(a))\n",
    "rev=a[::-1]\n",
    "print(\"\\nReversed array:\",rev)\n",
    "slice1=a[2:6]\n",
    "print(\"\\nSliced array:\",slice1)\n",
    "print(\"\\nElements greater than 7:\",a[a>7])"
   ]
  },
  {
   "cell_type": "code",
   "execution_count": 11,
   "id": "4842fa5a",
   "metadata": {},
   "outputs": [
    {
     "name": "stdout",
     "output_type": "stream",
     "text": [
      "Two dimensional array: [[ 3  1  7]\n",
      " [ 4  2  9]\n",
      " [10  6  2]\n",
      " [11  2  5]]\n",
      "\n",
      " Reshaped array [4,3]:\n",
      " [[ 3  1  7  4]\n",
      " [ 2  9 10  6]\n",
      " [ 2 11  2  5]]\n",
      "Sorted array: [[ 1  3  7]\n",
      " [ 2  4  9]\n",
      " [ 2  6 10]\n",
      " [ 2  5 11]]\n",
      "\n",
      "Sliced array: [[10  6  2]\n",
      " [11  2  5]]\n",
      "1st Column: [ 3  4 10 11]\n",
      "1st row: [3 1 7]\n"
     ]
    }
   ],
   "source": [
    "#Create a 2-D array. Reshape the array, sort the array,slice the array,extracrt the rows and columns of array.\n",
    "import numpy as np\n",
    "b=np.array([[3,1,7],[4,2,9],[10,6,2],[11,2,5]])\n",
    "print(\"Two dimensional array:\",b)\n",
    "newarr=b.reshape((3,4))\n",
    "print(\"\\n Reshaped array [4,3]:\\n\", newarr)\n",
    "print(\"Sorted array:\",np.sort(b))\n",
    "slice1=b[2:4]\n",
    "print(\"\\nSliced array:\",slice1)\n",
    "col=b[:,0]\n",
    "print(\"1st Column:\",col)\n",
    "row=b[0,:]\n",
    "print(\"1st row:\",row)"
   ]
  },
  {
   "cell_type": "code",
   "execution_count": null,
   "id": "8622b4db",
   "metadata": {},
   "outputs": [],
   "source": []
  }
 ],
 "metadata": {
  "kernelspec": {
   "display_name": "Python 3 (ipykernel)",
   "language": "python",
   "name": "python3"
  },
  "language_info": {
   "codemirror_mode": {
    "name": "ipython",
    "version": 3
   },
   "file_extension": ".py",
   "mimetype": "text/x-python",
   "name": "python",
   "nbconvert_exporter": "python",
   "pygments_lexer": "ipython3",
   "version": "3.12.7"
  }
 },
 "nbformat": 4,
 "nbformat_minor": 5
}
