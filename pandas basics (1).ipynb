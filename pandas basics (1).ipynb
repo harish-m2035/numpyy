{
 "cells": [
  {
   "cell_type": "code",
   "execution_count": 2,
   "id": "308f39fe",
   "metadata": {},
   "outputs": [
    {
     "name": "stdout",
     "output_type": "stream",
     "text": [
      "Empty DataFrame\n",
      "Columns: []\n",
      "Index: []\n"
     ]
    }
   ],
   "source": [
    "import pandas as pd\n",
    "df=pd.DataFrame()\n",
    "print(df)\n"
   ]
  },
  {
   "cell_type": "code",
   "execution_count": 14,
   "id": "9caff434",
   "metadata": {},
   "outputs": [
    {
     "name": "stdout",
     "output_type": "stream",
     "text": [
      "\n",
      " Series in Data Frame.\n",
      "\n",
      "         EMP  ID\n",
      "0     dharun  80\n",
      "1     Sudeep  90\n",
      "2       Siva  28\n",
      "3       Yash  57\n",
      "4  Keerthana  49\n"
     ]
    }
   ],
   "source": [
    "import pandas as pd\n",
    "emp=pd.Series([\"dharun\",\"Sudeep\",\"Siva\",\"Yash\",\"Keerthana\"])\n",
    "id=pd.Series([80,90,28,57,49])\n",
    "frame={\"EMP\":emp,\"ID\":id}\n",
    "res=pd.DataFrame(frame)\n",
    "print(\"\\n Series in Data Frame.\\n\")\n",
    "print(res)"
   ]
  },
  {
   "cell_type": "code",
   "execution_count": 15,
   "id": "af4cdc28",
   "metadata": {},
   "outputs": [
    {
     "name": "stdout",
     "output_type": "stream",
     "text": [
      "\n",
      " Extracting one cloumn :\n",
      "\n",
      "0       dharun\n",
      "1       Sudeep\n",
      "2         Siva\n",
      "3         Yash\n",
      "4    Keerthana\n",
      "Name: EMP, dtype: object\n"
     ]
    }
   ],
   "source": [
    "print(\"\\n Extracting one cloumn :\\n\")\n",
    "print(res['EMP'])\n"
   ]
  },
  {
   "cell_type": "code",
   "execution_count": 22,
   "id": "cf8011c5",
   "metadata": {},
   "outputs": [
    {
     "name": "stdout",
     "output_type": "stream",
     "text": [
      "\n",
      " Adding new columns:\n",
      "\n",
      "         EMP  ID  IP  AGE\n",
      "0     dharun  80  80   28\n",
      "1     Sudeep  90  90   32\n",
      "2       Siva  28  28   42\n",
      "3       Yash  57  56   52\n",
      "4  Keerthana  49  70   66\n"
     ]
    }
   ],
   "source": [
    "print(\"\\n Adding new columns:\\n\")\n",
    "res[\"IP\"]=pd.Series([80,90,28,56,70])\n",
    "res[\"AGE\"]=pd.Series([28,32,42,52,66])\n",
    "print(res)"
   ]
  },
  {
   "cell_type": "code",
   "execution_count": 23,
   "id": "2e283e48",
   "metadata": {},
   "outputs": [
    {
     "name": "stdout",
     "output_type": "stream",
     "text": [
      "\n",
      " Deleting new column:\n",
      "\n",
      "         EMP  ID  IP\n",
      "0     dharun  80  80\n",
      "1     Sudeep  90  90\n",
      "2       Siva  28  28\n",
      "3       Yash  57  56\n",
      "4  Keerthana  49  70\n"
     ]
    }
   ],
   "source": [
    "print(\"\\n Deleting new column:\\n\")\n",
    "del res[\"AGE\"]\n",
    "print(res)"
   ]
  },
  {
   "cell_type": "code",
   "execution_count": 24,
   "id": "0ad41304",
   "metadata": {},
   "outputs": [
    {
     "name": "stdout",
     "output_type": "stream",
     "text": [
      "\n",
      " Extracting the Second row:\n",
      "\n",
      "EMP    Sudeep\n",
      "ID         90\n",
      "IP         90\n",
      "Name: 1, dtype: object\n"
     ]
    }
   ],
   "source": [
    "print(\"\\n Extracting the Second row:\\n\")\n",
    "print(res.loc[1])\n"
   ]
  },
  {
   "cell_type": "code",
   "execution_count": 25,
   "id": "6115acf2",
   "metadata": {},
   "outputs": [
    {
     "name": "stdout",
     "output_type": "stream",
     "text": [
      "SLice rows:\n",
      "       EMP  ID  IP\n",
      "1  Sudeep  90  90\n",
      "2    Siva  28  28\n",
      "3    Yash  57  56\n"
     ]
    }
   ],
   "source": [
    "print(\"SLice rows:\\n\",res[1:4])"
   ]
  },
  {
   "cell_type": "code",
   "execution_count": 33,
   "id": "11232a60",
   "metadata": {},
   "outputs": [
    {
     "name": "stdout",
     "output_type": "stream",
     "text": [
      "\n",
      " Adding new row values:\n",
      "          EMP   ID  IP\n",
      "0     dharun   80  80\n",
      "1     Sudeep   90  90\n",
      "2       Siva   28  28\n",
      "3       Yash   57  56\n",
      "4  Keerthana   49  70\n",
      "0      vicky  100  65\n",
      "1      rahul  110  69\n"
     ]
    }
   ],
   "source": [
    "d2=pd.DataFrame([[\"vicky\",100,65],[\"rahul\",110,69]],columns=[\"EMP\",\"ID\",\"IP\"])\n",
    "print(\"\\n Adding new row values:\\n\",pd.concat([res,d2]))"
   ]
  },
  {
   "cell_type": "code",
   "execution_count": 37,
   "id": "91ccefc0",
   "metadata": {},
   "outputs": [
    {
     "name": "stdout",
     "output_type": "stream",
     "text": [
      "         EMP  ID  IP\n",
      "0     dharun  80  80\n",
      "1     Sudeep  90  90\n",
      "2       Siva  28  28\n",
      "3       Yash  57  56\n",
      "4  Keerthana  49  70\n",
      "5    charlie  32  42\n"
     ]
    }
   ],
   "source": [
    "res.loc[len(res)]=[\"charlie\",32,42]\n",
    "print(res)"
   ]
  },
  {
   "cell_type": "code",
   "execution_count": null,
   "id": "de0c5b7b",
   "metadata": {},
   "outputs": [],
   "source": [
    "import pandas as pd\n",
    "import numpy as np\n",
    "print(\"DataFrame([[3,9]]*4,columns=[])\")"
   ]
  }
 ],
 "metadata": {
  "kernelspec": {
   "display_name": "Python 3 (ipykernel)",
   "language": "python",
   "name": "python3"
  },
  "language_info": {
   "codemirror_mode": {
    "name": "ipython",
    "version": 3
   },
   "file_extension": ".py",
   "mimetype": "text/x-python",
   "name": "python",
   "nbconvert_exporter": "python",
   "pygments_lexer": "ipython3",
   "version": "3.11.5"
  }
 },
 "nbformat": 4,
 "nbformat_minor": 5
}
