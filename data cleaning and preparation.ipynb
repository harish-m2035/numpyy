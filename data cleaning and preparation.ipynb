{
 "cells": [
  {
   "cell_type": "code",
   "execution_count": 4,
   "id": "19a2c188",
   "metadata": {},
   "outputs": [
    {
     "name": "stdout",
     "output_type": "stream",
     "text": [
      "        one       two     three\n",
      "a  1.210836 -0.037331 -0.163883\n",
      "b       NaN       NaN       NaN\n",
      "c -0.250562  0.643453  0.039386\n",
      "d  0.329122  1.123244  0.234847\n",
      "e       NaN       NaN       NaN\n",
      "f  0.323005  1.299542 -0.527316\n"
     ]
    }
   ],
   "source": [
    "import pandas as pd\n",
    "import numpy as np\n",
    "df=pd.DataFrame(np.random.randn(4,3),index=['a','c','d','f'],columns=['one','two','three'])\n",
    "df=df.reindex(['a','b','c','d','e','f'])\n",
    "print(df)\n"
   ]
  },
  {
   "cell_type": "code",
   "execution_count": 5,
   "id": "630dd742",
   "metadata": {},
   "outputs": [
    {
     "name": "stdout",
     "output_type": "stream",
     "text": [
      "        one       two     three\n",
      "a  1.210836 -0.037331 -0.163883\n",
      "c -0.250562  0.643453  0.039386\n",
      "d  0.329122  1.123244  0.234847\n",
      "f  0.323005  1.299542 -0.527316\n",
      "\n"
     ]
    }
   ],
   "source": [
    "print(df.dropna())\n",
    "print()"
   ]
  },
  {
   "cell_type": "code",
   "execution_count": 6,
   "id": "9f174e92",
   "metadata": {},
   "outputs": [
    {
     "name": "stdout",
     "output_type": "stream",
     "text": [
      "        one       two     three\n",
      "a  1.210836 -0.037331 -0.163883\n",
      "b  0.000000  0.000000  0.000000\n",
      "c -0.250562  0.643453  0.039386\n",
      "d  0.329122  1.123244  0.234847\n",
      "e  0.000000  0.000000  0.000000\n",
      "f  0.323005  1.299542 -0.527316\n"
     ]
    }
   ],
   "source": [
    "print(df.fillna(0))"
   ]
  },
  {
   "cell_type": "code",
   "execution_count": 8,
   "id": "0988af0a",
   "metadata": {},
   "outputs": [
    {
     "name": "stdout",
     "output_type": "stream",
     "text": [
      "   one  two\n",
      "0   10   60\n",
      "1   20   70\n",
      "2   30   80\n",
      "3   40    0\n",
      "4   50   10\n",
      "   one  two\n",
      "0    5   60\n",
      "1   20   70\n",
      "2   30    3\n",
      "3   40    0\n",
      "4   50    5\n"
     ]
    }
   ],
   "source": [
    "df=pd.DataFrame({'one':[10,20,30,40,50],'two':[60,70,80,0,10]})\n",
    "print(df)\n",
    "print(df.replace({10:5,80:3}))"
   ]
  },
  {
   "cell_type": "code",
   "execution_count": 11,
   "id": "0ea114e8",
   "metadata": {},
   "outputs": [
    {
     "name": "stdout",
     "output_type": "stream",
     "text": [
      "Original dataframe:\n",
      "         one       two     three\n",
      "a  0.355213 -0.918667 -1.615869\n",
      "b       NaN       NaN       NaN\n",
      "c -1.745696  1.140986 -0.717267\n",
      "d -1.123817 -0.616585 -2.054348\n",
      "e       NaN       NaN       NaN\n",
      "f -0.100051 -1.039017  1.799750\n",
      "\n",
      " Nan with Background values:\n",
      "\n",
      "        one       two     three\n",
      "a  0.355213 -0.918667 -1.615869\n",
      "b -1.745696  1.140986 -0.717267\n",
      "c -1.745696  1.140986 -0.717267\n",
      "d -1.123817 -0.616585 -2.054348\n",
      "e -0.100051 -1.039017  1.799750\n",
      "f -0.100051 -1.039017  1.799750\n"
     ]
    }
   ],
   "source": [
    "df=pd.DataFrame(np.random.randn(4,3),index=['a','c','d','f'],columns=['one','two','three'])\n",
    "df=df.reindex(['a','b','c','d','e','f'])\n",
    "print(\"Original dataframe:\\n\",df)\n",
    "print(\"\\n Nan with Background values:\\n\")\n",
    "print(df.fillna(method='bfill'))\n"
   ]
  },
  {
   "cell_type": "code",
   "execution_count": null,
   "id": "0d1563a1",
   "metadata": {},
   "outputs": [],
   "source": []
  }
 ],
 "metadata": {
  "kernelspec": {
   "display_name": "Python 3 (ipykernel)",
   "language": "python",
   "name": "python3"
  },
  "language_info": {
   "codemirror_mode": {
    "name": "ipython",
    "version": 3
   },
   "file_extension": ".py",
   "mimetype": "text/x-python",
   "name": "python",
   "nbconvert_exporter": "python",
   "pygments_lexer": "ipython3",
   "version": "3.11.5"
  }
 },
 "nbformat": 4,
 "nbformat_minor": 5
}
