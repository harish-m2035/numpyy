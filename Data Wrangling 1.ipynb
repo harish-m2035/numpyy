{
 "cells": [
  {
   "cell_type": "code",
   "execution_count": 4,
   "id": "14644ac8",
   "metadata": {},
   "outputs": [
    {
     "name": "stdout",
     "output_type": "stream",
     "text": [
      "DF1:\n",
      "   name  age\n",
      "0  sai   20\n",
      "1  sub   21\n",
      "2  poo   22\n",
      "DF2:\n",
      "    qualified\n",
      "0       True\n",
      "1       True\n",
      "2      False\n"
     ]
    }
   ],
   "source": [
    "import pandas as pd \n",
    "import pandas as pd\n",
    "d1={\n",
    "\"name\":[\"sai\",\"s\",\"poo\"],\n",
    "\"age\":[20,21,22ub]\n",
    "}\n",
    "d2={\n",
    "\"qualified\":[True,True,False]\n",
    "}\n",
    "df1=pd.DataFrame(d1)\n",
    "print(\"DF1:\\n\",df1)\n",
    "df2=pd.DataFrame(d2)\n",
    "print(\"DF2:\\n\",df2)\n"
   ]
  },
  {
   "cell_type": "code",
   "execution_count": null,
   "id": "13764ebd",
   "metadata": {},
   "outputs": [],
   "source": []
  },
  {
   "cell_type": "code",
   "execution_count": 10,
   "id": "70add8e3",
   "metadata": {},
   "outputs": [
    {
     "name": "stdout",
     "output_type": "stream",
     "text": [
      "  name  age\n",
      "0  sai   20\n",
      "1  sri   21\n",
      "2  poo   22\n",
      "     name  age\n",
      "0    yuvi   22\n",
      "1   sekar   21\n",
      "2  pushpa   17\n"
     ]
    }
   ],
   "source": [
    "d1={\n",
    "\"name\":[\"sai\",\"sri\",\"poo\"],\n",
    "\"age\":[20,21,22]\n",
    "}\n",
    "d2={\n",
    "\"name\":[\"yuvi\",\"sekar\",\"pushpa\"],\n",
    "\"age\":[22,21,17]\n",
    "}\n",
    "c=pd.DataFrame(d1)\n",
    "print(c)\n",
    "d=pd.DataFrame(d2)\n",
    "print(d)"
   ]
  },
  {
   "cell_type": "code",
   "execution_count": 11,
   "id": "9ebc1613",
   "metadata": {},
   "outputs": [
    {
     "name": "stdout",
     "output_type": "stream",
     "text": [
      "  name_x  age name_y\n",
      "0    sri   21  sekar\n",
      "1    poo   22   yuvi\n"
     ]
    }
   ],
   "source": [
    "n=c.merge(d,on=\"age\")\n",
    "print(n)"
   ]
  },
  {
   "cell_type": "code",
   "execution_count": 14,
   "id": "5060ca21",
   "metadata": {},
   "outputs": [
    {
     "name": "stdout",
     "output_type": "stream",
     "text": [
      "  team  points  assist  rebounds\n",
      "0    A      90      12        56\n",
      "1    B      56      34        43\n",
      "2    C      78      23        55\n",
      "3    D      88      44        12\n",
      "   team  variable  value\n",
      "0     A    points     90\n",
      "1     B    points     56\n",
      "2     C    points     78\n",
      "3     D    points     88\n",
      "4     A    assist     12\n",
      "5     B    assist     34\n",
      "6     C    assist     23\n",
      "7     D    assist     44\n",
      "8     A  rebounds     56\n",
      "9     B  rebounds     43\n",
      "10    C  rebounds     55\n",
      "11    D  rebounds     12\n"
     ]
    }
   ],
   "source": [
    "#reshape\n",
    "df=pd.DataFrame({\"team\":['A','B','C','D'],\"points\":[90,56,78,88],'assist':[12,34,23,44],\"rebounds\":[56,43,55,12]})\n",
    "print(df)\n",
    "df=pd.melt(df,id_vars='team',value_vars=['points','assist','rebounds'])\n",
    "print(df)"
   ]
  }
 ],
 "metadata": {
  "kernelspec": {
   "display_name": "Python 3 (ipykernel)",
   "language": "python",
   "name": "python3"
  },
  "language_info": {
   "codemirror_mode": {
    "name": "ipython",
    "version": 3
   },
   "file_extension": ".py",
   "mimetype": "text/x-python",
   "name": "python",
   "nbconvert_exporter": "python",
   "pygments_lexer": "ipython3",
   "version": "3.11.3"
  }
 },
 "nbformat": 4,
 "nbformat_minor": 5
}
