{
 "cells": [
  {
   "cell_type": "code",
   "execution_count": 1,
   "id": "98646866",
   "metadata": {},
   "outputs": [
    {
     "name": "stdout",
     "output_type": "stream",
     "text": [
      "one dimensional array:  [ 5 10 15 20]\n"
     ]
    }
   ],
   "source": [
    "import numpy as np\n",
    "x=np.array([5,10,15,20])\n",
    "print(\"one dimensional array: \",x)"
   ]
  },
  {
   "cell_type": "code",
   "execution_count": 2,
   "id": "95c4c969",
   "metadata": {},
   "outputs": [
    {
     "name": "stdout",
     "output_type": "stream",
     "text": [
      "two dimensional array:  [[10 20 30 40]\n",
      " [ 8 16 24 32]]\n"
     ]
    }
   ],
   "source": [
    "import numpy as np\n",
    "y=np.array([[10,20,30,40],[8,16,24,32]])\n",
    "print(\"two dimensional array: \",y)\n"
   ]
  },
  {
   "cell_type": "code",
   "execution_count": 3,
   "id": "cbd232fd",
   "metadata": {},
   "outputs": [
    {
     "name": "stdout",
     "output_type": "stream",
     "text": [
      "\n",
      " array with all zeros:\n",
      " [[0. 0. 0. 0.]\n",
      " [0. 0. 0. 0.]\n",
      " [0. 0. 0. 0.]\n",
      " [0. 0. 0. 0.]]\n"
     ]
    }
   ],
   "source": [
    "\n",
    "import numpy as np\n",
    "z=np.zeros((4,4))\n",
    "print(\"\\n array with all zeros:\\n\",z)"
   ]
  },
  {
   "cell_type": "code",
   "execution_count": 4,
   "id": "b5e825b6",
   "metadata": {},
   "outputs": [
    {
     "name": "stdout",
     "output_type": "stream",
     "text": [
      "\n",
      " random array:\n",
      " [[0.16285948 0.20131655 0.29514714]\n",
      " [0.19198747 0.23346525 0.32277814]\n",
      " [0.96045686 0.58906381 0.21970093]]\n"
     ]
    }
   ],
   "source": [
    "import numpy as np\n",
    "a=np.random.random((3,3))\n",
    "print(\"\\n random array:\\n\",a)"
   ]
  },
  {
   "cell_type": "code",
   "execution_count": 5,
   "id": "08f0359c",
   "metadata": {},
   "outputs": [
    {
     "name": "stdout",
     "output_type": "stream",
     "text": [
      "\n",
      " range value \n",
      " [ 0  3  6  9 12 15 18]\n"
     ]
    }
   ],
   "source": [
    "import numpy as np\n",
    "b=np.arange(0,20,3)\n",
    "print(\"\\n range value \\n\",b)\n"
   ]
  },
  {
   "cell_type": "code",
   "execution_count": 6,
   "id": "625d947b",
   "metadata": {},
   "outputs": [
    {
     "name": "stdout",
     "output_type": "stream",
     "text": [
      "\n",
      " original array: \n",
      " [[ 2  4  6]\n",
      " [ 8 10 12]\n",
      " [14 16 18]\n",
      " [20 22 24]]\n",
      "\n",
      " reshaped array: \n",
      " [[ 2  4  6  8]\n",
      " [10 12 14 16]\n",
      " [18 20 22 24]]\n"
     ]
    }
   ],
   "source": [
    "import numpy as np\n",
    "arr=np.array([[2,4,6],[8,10,12],[14,16,18],[20,22,24]])\n",
    "new=arr.reshape((3,4))\n",
    "print(\"\\n original array: \\n\",arr)\n",
    "print(\"\\n reshaped array: \\n\",new)\n"
   ]
  },
  {
   "cell_type": "code",
   "execution_count": 8,
   "id": "546e6d78",
   "metadata": {},
   "outputs": [
    {
     "name": "stdout",
     "output_type": "stream",
     "text": [
      "\n",
      " created 5x3 array: \n",
      " [[ 2  4  6]\n",
      " [ 8 10 12]\n",
      " [14 16 18]\n",
      " [20 22 24]\n",
      " [26 28 30]]\n",
      "\n",
      " all zeros array: \n",
      " [[0. 0. 0.]\n",
      " [0. 0. 0.]\n",
      " [0. 0. 0.]\n",
      " [0. 0. 0.]\n",
      " [0. 0. 0.]]\n",
      "\n",
      " random numbers array: \n",
      " [[0.00933364 0.94372656 0.29464804]\n",
      " [0.94359441 0.4013908  0.74522612]\n",
      " [0.36206171 0.77247484 0.29676347]\n",
      " [0.53074288 0.13034113 0.57898183]\n",
      " [0.22053279 0.35625928 0.72976687]]\n",
      "\n",
      " range with step value \n",
      " [ 0  3  6  9 12 15 18]\n",
      "\n",
      " reshaped 3x5 array: \n",
      " [[ 2  4  6  8 10]\n",
      " [12 14 16 18 20]\n",
      " [22 24 26 28 30]]\n"
     ]
    }
   ],
   "source": [
    "import numpy as np\n",
    "arr=np.array([[2,4,6],[8,10,12],[14,16,18],[20,22,24],[26,28,30]])\n",
    "z=np.zeros((5,3))\n",
    "r=np.random.random((5,3))\n",
    "b=np.arange(0,20,3)\n",
    "new=arr.reshape((3,5))\n",
    "print(\"\\n created 5x3 array: \\n\",arr)\n",
    "print(\"\\n all zeros array: \\n\",z)\n",
    "print(\"\\n random numbers array: \\n\",r)\n",
    "print(\"\\n range with step value \\n\",b)\n",
    "print(\"\\n reshaped 3x5 array: \\n\",new)"
   ]
  },
  {
   "cell_type": "code",
   "execution_count": 11,
   "id": "5b21c355",
   "metadata": {},
   "outputs": [
    {
     "name": "stdout",
     "output_type": "stream",
     "text": [
      "number of dimension: 2\n",
      "shape of the array: (5, 3)\n",
      "Flattened array: [ 2  4  6  8 10 12 14 16 18 20 22 24 26 28 30]\n"
     ]
    }
   ],
   "source": [
    "import numpy as np\n",
    "arr=np.array([[2,4,6],[8,10,12],[14,16,18],[20,22,24],[26,28,30]])\n",
    "print(\"number of dimension:\",arr.ndim)\n",
    "print(\"shape of the array:\",arr.shape)\n",
    "fl=arr.flatten()\n",
    "print(\"Flattened array:\",fl)"
   ]
  },
  {
   "cell_type": "code",
   "execution_count": 2,
   "id": "b2d4f461",
   "metadata": {},
   "outputs": [
    {
     "name": "stdout",
     "output_type": "stream",
     "text": [
      "\n",
      " Array element type: int32\n"
     ]
    }
   ],
   "source": [
    "import numpy as np\n",
    "arr=np.array([[2,4,6],[8,10,12],[14,16,18],[20,22,24],[26,28,30]])\n",
    "print(\"\\n Array element type:\",arr.dtype)"
   ]
  },
  {
   "cell_type": "code",
   "execution_count": 4,
   "id": "f25ff8e2",
   "metadata": {},
   "outputs": [
    {
     "name": "stdout",
     "output_type": "stream",
     "text": [
      "arr.size 5\n"
     ]
    }
   ],
   "source": [
    "\n",
    "import numpy as np\n",
    "arr=np.array([[2,4,6],[8,10,12],[14,16,18],[20,22,24],[26,28,30]])\n",
    "size=len(arr)\n",
    "print(\"arr.size\",size)\n",
    "                                                                                                                                                "
   ]
  },
  {
   "cell_type": "code",
   "execution_count": 6,
   "id": "f3a5f986",
   "metadata": {},
   "outputs": [
    {
     "name": "stdout",
     "output_type": "stream",
     "text": [
      "\n",
      "converted array element\n",
      " [[1. 2. 3.]\n",
      " [4. 5. 6.]]\n",
      "\n",
      " converted array:\n",
      " float32\n"
     ]
    }
   ],
   "source": [
    "import numpy as np\n",
    "x= np.array([[1,2,3],[4,5,6]])\n",
    "new=x.astype('f')\n",
    "print(\"\\nconverted array element\\n\",new)\n",
    "print(\"\\n converted array:\\n\",new.dtype)"
   ]
  }
 ],
 "metadata": {
  "kernelspec": {
   "display_name": "Python 3 (ipykernel)",
   "language": "python",
   "name": "python3"
  },
  "language_info": {
   "codemirror_mode": {
    "name": "ipython",
    "version": 3
   },
   "file_extension": ".py",
   "mimetype": "text/x-python",
   "name": "python",
   "nbconvert_exporter": "python",
   "pygments_lexer": "ipython3",
   "version": "3.10.9"
  }
 },
 "nbformat": 4,
 "nbformat_minor": 5
}
