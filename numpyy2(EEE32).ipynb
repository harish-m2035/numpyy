{
 "cells": [
  {
   "cell_type": "code",
   "execution_count": 11,
   "id": "be36dc16",
   "metadata": {},
   "outputs": [
    {
     "name": "stdout",
     "output_type": "stream",
     "text": [
      "[3 4 5 6]\n"
     ]
    }
   ],
   "source": [
    "import numpy as np\n",
    "arr=np.array([1,2,3,4,5,6,7,8,9])\n",
    "sl1=arr[2:6]\n",
    "print(sl1)"
   ]
  },
  {
   "cell_type": "code",
   "execution_count": 14,
   "id": "88a6ee95",
   "metadata": {},
   "outputs": [
    {
     "name": "stdout",
     "output_type": "stream",
     "text": [
      "[1 3 5 7 9]\n"
     ]
    }
   ],
   "source": [
    "import numpy as np\n",
    "arr=np.array([1,2,3,4,5,6,7,8,9])\n",
    "sl1=arr[::2]\n",
    "print(sl1)"
   ]
  },
  {
   "cell_type": "code",
   "execution_count": 15,
   "id": "036bee8d",
   "metadata": {},
   "outputs": [
    {
     "name": "stdout",
     "output_type": "stream",
     "text": [
      "Reversed array: [9 8 7 6 5 4 3 2 1]\n"
     ]
    }
   ],
   "source": [
    "import numpy as np\n",
    "arr=np.array([1,2,3,4,5,6,7,8,9])\n",
    "rev=arr[::-1]\n",
    "print(\"Reversed array:\",rev)"
   ]
  },
  {
   "cell_type": "code",
   "execution_count": 16,
   "id": "7f227128",
   "metadata": {},
   "outputs": [
    {
     "name": "stdout",
     "output_type": "stream",
     "text": [
      "[[2 3]\n",
      " [5 6]]\n"
     ]
    }
   ],
   "source": [
    "import numpy as np\n",
    "arr=np.array([[1,2,3],[4,5,6],[7,8,9]])\n",
    "subarr=arr[0:2,1:3]\n",
    "print(subarr)"
   ]
  },
  {
   "cell_type": "code",
   "execution_count": 25,
   "id": "7cf28189",
   "metadata": {},
   "outputs": [
    {
     "name": "stdout",
     "output_type": "stream",
     "text": [
      "1st column:\n",
      "[[1]\n",
      " [4]\n",
      " [7]]\n",
      "2nd row:\n",
      "[[4 5 6]]\n"
     ]
    }
   ],
   "source": [
    "import numpy as np\n",
    "arr=np.array([[1,2,3],[4,5,6],[7,8,9]])\n",
    "subarr=arr[0:3,0:1]\n",
    "sbarr=arr[1:2,0:3]\n",
    "print(\"1st column:\")\n",
    "print(subarr)\n",
    "print(\"2nd row:\")\n",
    "print(sbarr)\n"
   ]
  },
  {
   "cell_type": "code",
   "execution_count": 26,
   "id": "0fca98c6",
   "metadata": {},
   "outputs": [
    {
     "name": "stdout",
     "output_type": "stream",
     "text": [
      "1\n",
      "6\n"
     ]
    }
   ],
   "source": [
    "import numpy as np\n",
    "arr=np.array([[1,2,3],[4,5,6],[7,8,9]])\n",
    "print(arr[0,0])\n",
    "print(arr[1,2])\n"
   ]
  },
  {
   "cell_type": "code",
   "execution_count": 31,
   "id": "240d83fd",
   "metadata": {},
   "outputs": [
    {
     "name": "stdout",
     "output_type": "stream",
     "text": [
      "20\n"
     ]
    }
   ],
   "source": [
    "import numpy as np\n",
    "arr=np.array([10,20,30,40,50])\n",
    "print(arr[1])"
   ]
  },
  {
   "cell_type": "code",
   "execution_count": 32,
   "id": "e4fa61fe",
   "metadata": {},
   "outputs": [
    {
     "name": "stdout",
     "output_type": "stream",
     "text": [
      "50\n"
     ]
    }
   ],
   "source": [
    "import numpy as np\n",
    "arr=np.array([10,20,30,40,50])\n",
    "print(arr[-1])"
   ]
  },
  {
   "cell_type": "code",
   "execution_count": 33,
   "id": "d5885171",
   "metadata": {},
   "outputs": [
    {
     "name": "stdout",
     "output_type": "stream",
     "text": [
      "30\n"
     ]
    }
   ],
   "source": [
    "import numpy as np\n",
    "arr=np.array([10,20,30,40,50])\n",
    "print(arr[-3])"
   ]
  },
  {
   "cell_type": "code",
   "execution_count": 34,
   "id": "e907e1c2",
   "metadata": {},
   "outputs": [
    {
     "name": "stdout",
     "output_type": "stream",
     "text": [
      "[20 30 40]\n"
     ]
    }
   ],
   "source": [
    "import numpy as np\n",
    "arr=np.array([10,20,30,40,50])\n",
    "print(arr[1:4])"
   ]
  },
  {
   "cell_type": "code",
   "execution_count": 35,
   "id": "b9bd946f",
   "metadata": {},
   "outputs": [
    {
     "name": "stdout",
     "output_type": "stream",
     "text": [
      "[30 40 50]\n"
     ]
    }
   ],
   "source": [
    "import numpy as np\n",
    "arr=np.array([10,20,30,40,50])\n",
    "print(arr[arr>25])"
   ]
  },
  {
   "cell_type": "code",
   "execution_count": 36,
   "id": "61e2eb7b",
   "metadata": {},
   "outputs": [
    {
     "name": "stdout",
     "output_type": "stream",
     "text": [
      "[[1 2 5 6]\n",
      " [3 4 7 8]]\n"
     ]
    }
   ],
   "source": [
    "import numpy as np\n",
    "arr1 = np.array([[1, 2], [3, 4]])\n",
    "arr2 = np.array([[5, 6], [7, 8]])\n",
    "res=np.hstack((arr1,arr2))\n",
    "print(res)"
   ]
  },
  {
   "cell_type": "code",
   "execution_count": 37,
   "id": "fbd27200",
   "metadata": {},
   "outputs": [
    {
     "name": "stdout",
     "output_type": "stream",
     "text": [
      "[[1 2]\n",
      " [3 4]\n",
      " [5 6]\n",
      " [7 8]]\n"
     ]
    }
   ],
   "source": [
    "import numpy as np\n",
    "arr1 = np.array([[1, 2], [3, 4]])\n",
    "arr2 = np.array([[5, 6], [7, 8]])\n",
    "res=np.vstack((arr1,arr2))\n",
    "print(res)"
   ]
  },
  {
   "cell_type": "code",
   "execution_count": 38,
   "id": "18ec5fee",
   "metadata": {},
   "outputs": [
    {
     "name": "stdout",
     "output_type": "stream",
     "text": [
      "[[[1 5]\n",
      "  [2 6]]\n",
      "\n",
      " [[3 7]\n",
      "  [4 8]]]\n"
     ]
    }
   ],
   "source": [
    "import numpy as np\n",
    "arr1 = np.array([[1, 2], [3, 4]])\n",
    "arr2 = np.array([[5, 6], [7, 8]])\n",
    "res=np.dstack((arr1,arr2))\n",
    "print(res)"
   ]
  },
  {
   "cell_type": "code",
   "execution_count": 44,
   "id": "c6100a74",
   "metadata": {},
   "outputs": [
    {
     "name": "stdout",
     "output_type": "stream",
     "text": [
      "[array([1, 2]), array([3, 4]), array([5, 6])]\n"
     ]
    }
   ],
   "source": [
    "import numpy as np \n",
    "arr=np.array([1,2,3,4,5,6])\n",
    "res=np.array_split(arr,3)\n",
    "print(res)"
   ]
  },
  {
   "cell_type": "code",
   "execution_count": 45,
   "id": "82fa6e16",
   "metadata": {},
   "outputs": [
    {
     "name": "stdout",
     "output_type": "stream",
     "text": [
      "[array([1, 2]), array([3, 4]), array([5]), array([6])]\n"
     ]
    }
   ],
   "source": [
    "import numpy as np \n",
    "arr=np.array([1,2,3,4,5,6])\n",
    "res=np.array_split(arr,4)\n",
    "print(res)"
   ]
  },
  {
   "cell_type": "code",
   "execution_count": null,
   "id": "35ec8c7d",
   "metadata": {},
   "outputs": [],
   "source": [
    "import numpy as np\n"
   ]
  }
 ],
 "metadata": {
  "kernelspec": {
   "display_name": "Python 3 (ipykernel)",
   "language": "python",
   "name": "python3"
  },
  "language_info": {
   "codemirror_mode": {
    "name": "ipython",
    "version": 3
   },
   "file_extension": ".py",
   "mimetype": "text/x-python",
   "name": "python",
   "nbconvert_exporter": "python",
   "pygments_lexer": "ipython3",
   "version": "3.10.9"
  }
 },
 "nbformat": 4,
 "nbformat_minor": 5
}
