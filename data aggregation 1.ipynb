{
 "cells": [
  {
   "cell_type": "code",
   "execution_count": 2,
   "id": "793431c1",
   "metadata": {},
   "outputs": [
    {
     "name": "stdout",
     "output_type": "stream",
     "text": [
      "     A      B  C  D  E\n",
      "0  aaa    one  1  2  1\n",
      "1  bbb    two  0  2  3\n",
      "2  ccc  three  1  4  0\n",
      "3  ddd    one  1  0  4\n",
      "4  eee    two  3  0  1\n",
      "5  fff  three  3  3  2\n"
     ]
    }
   ],
   "source": [
    "import pandas as pd\n",
    "import numpy as np\n",
    "df=pd.DataFrame({'A':['aaa','bbb','ccc','ddd','eee','fff'],'B':['one','two','three','one','two','three'],'C':np.random.randint(5,size=6),'D':np.random.randint(5,size=6),'E':np.random.randint(5,size=6)})\n",
    "print(df)"
   ]
  },
  {
   "cell_type": "code",
   "execution_count": 12,
   "id": "e566eca6",
   "metadata": {},
   "outputs": [
    {
     "name": "stdout",
     "output_type": "stream",
     "text": [
      "     A  C\n",
      "0  aaa  5\n",
      "1  bbb  4\n",
      "2  ccc  0\n",
      "3  ddd  4\n",
      "4  eee  2\n",
      "5  fff  2\n"
     ]
    }
   ],
   "source": [
    "import pandas as pd\n",
    "import numpy as np\n",
    "df=pd.DataFrame({'A':['aaa','bbb','ccc','ddd','eee','fff','aaa','bbb'],'B':['one','two','three','one','two','three','one','two'],'C':np.random.randint(5,size=8),'D':np.random.randint(5,size=8)})\n",
    "df1=df.groupby('A',as_index=False)['C'].sum()\n",
    "print(df1)"
   ]
  },
  {
   "cell_type": "code",
   "execution_count": 3,
   "id": "033e26a2",
   "metadata": {},
   "outputs": [
    {
     "name": "stdout",
     "output_type": "stream",
     "text": [
      "       B  C\n",
      "0    one  7\n",
      "1  three  7\n",
      "2    two  7\n"
     ]
    }
   ],
   "source": [
    "import pandas as pd\n",
    "import numpy as np\n",
    "df=pd.DataFrame({'A':['aaa','bbb','ccc','ddd','eee','fff','aaa','bbb'],'B':['one','two','three','one','two','three','one','two'],'C':np.random.randint(5,size=8),'D':np.random.randint(5,size=8)})\n",
    "df1=df.groupby('B',as_index=False)['C'].sum()\n",
    "print(df1)"
   ]
  },
  {
   "cell_type": "code",
   "execution_count": 4,
   "id": "3f6638fc",
   "metadata": {},
   "outputs": [
    {
     "name": "stdout",
     "output_type": "stream",
     "text": [
      "     A      B  C  D\n",
      "0  aaa    one  6  5\n",
      "1  bbb    two  4  7\n",
      "2  ccc  three  0  4\n",
      "3  ddd    one  1  2\n",
      "4  eee    two  3  4\n",
      "5  fff  three  4  4\n"
     ]
    }
   ],
   "source": [
    "import pandas as pd\n",
    "import numpy as np\n",
    "df=pd.DataFrame({'A':['aaa','bbb','ccc','ddd','eee','fff','aaa','bbb'],'B':['one','two','three','one','two','three','one','two'],'C':np.random.randint(5,size=8),'D':np.random.randint(5,size=8)})\n",
    "df1=df.groupby(['A','B'],as_index=False)[['C','D']].sum()\n",
    "print(df1)"
   ]
  }
 ],
 "metadata": {
  "kernelspec": {
   "display_name": "Python 3 (ipykernel)",
   "language": "python",
   "name": "python3"
  },
  "language_info": {
   "codemirror_mode": {
    "name": "ipython",
    "version": 3
   },
   "file_extension": ".py",
   "mimetype": "text/x-python",
   "name": "python",
   "nbconvert_exporter": "python",
   "pygments_lexer": "ipython3",
   "version": "3.9.12"
  }
 },
 "nbformat": 4,
 "nbformat_minor": 5
}
