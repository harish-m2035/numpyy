{
  "nbformat": 4,
  "nbformat_minor": 0,
  "metadata": {
    "colab": {
      "provenance": []
    },
    "kernelspec": {
      "name": "python3",
      "display_name": "Python 3"
    },
    "language_info": {
      "name": "python"
    }
  },
  "cells": [
    {
      "cell_type": "code",
      "execution_count": 2,
      "metadata": {
        "colab": {
          "base_uri": "https://localhost:8080/"
        },
        "id": "1BW5Jc46Z4WO",
        "outputId": "2041bde6-a0d6-4e11-84a0-4392ee26f43b"
      },
      "outputs": [
        {
          "output_type": "stream",
          "name": "stdout",
          "text": [
            "\n",
            "With this date object, create a series with datetime index:\n",
            " 2020-01-05   -0.613972\n",
            "2020-01-10    0.811658\n",
            "2020-01-15    0.037233\n",
            "2020-01-20   -0.572339\n",
            "2020-01-25    0.523823\n",
            "dtype: float64\n"
          ]
        }
      ],
      "source": [
        "import pandas as pd\n",
        "import numpy as np\n",
        "from datetime import datetime\n",
        "dates = [datetime(2020,1,5),\n",
        " datetime(2020,1,10),\n",
        " datetime(2020,1,15),\n",
        " datetime(2020,1,20),\n",
        " datetime(2020,1,25)]\n",
        "ts = pd.Series(np.random.randn(5), index=dates)\n",
        "print(\"\\nWith this date object, create a series with datetime index:\\n\",ts)"
      ]
    },
    {
      "cell_type": "code",
      "source": [
        "res=ts.truncate(after=\"1/15/2020\")\n",
        "print(\"\\nTruncate method to truncate datetime series \\n\", res)"
      ],
      "metadata": {
        "colab": {
          "base_uri": "https://localhost:8080/"
        },
        "id": "2-FFbhqXaItm",
        "outputId": "cc6e9c65-f907-4dd6-a7b7-3327440ca5a0"
      },
      "execution_count": 3,
      "outputs": [
        {
          "output_type": "stream",
          "name": "stdout",
          "text": [
            "\n",
            "Truncate method to truncate datetime series \n",
            " 2020-01-05   -0.613972\n",
            "2020-01-10    0.811658\n",
            "2020-01-15    0.037233\n",
            "dtype: float64\n"
          ]
        }
      ]
    },
    {
      "cell_type": "code",
      "source": [
        "da=pd.date_range(\"10/1/2022\", periods=10, freq=\"W-SUN\")\n",
        "print(\"\\nDate range with day periods.\\n\",da)"
      ],
      "metadata": {
        "colab": {
          "base_uri": "https://localhost:8080/"
        },
        "id": "QgdRXON3aM0H",
        "outputId": "a760d14b-01bd-428b-8387-dfb24020eb4e"
      },
      "execution_count": 4,
      "outputs": [
        {
          "output_type": "stream",
          "name": "stdout",
          "text": [
            "\n",
            "Date range with day periods.\n",
            " DatetimeIndex(['2022-10-02', '2022-10-09', '2022-10-16', '2022-10-23',\n",
            "               '2022-10-30', '2022-11-06', '2022-11-13', '2022-11-20',\n",
            "               '2022-11-27', '2022-12-04'],\n",
            "              dtype='datetime64[ns]', freq='W-SUN')\n"
          ]
        }
      ]
    },
    {
      "cell_type": "code",
      "source": [
        "date=pd.DatetimeIndex([\"1/1/2020\",\"1/2/2020\",\"1/2/2020\",\"1/2/2020\",\"1/3/2020\"])\n",
        "ts1=pd.Series(np.arange(5), index=date)\n",
        "print(\"\\nDuplicate datetime index:\\n\",ts1)"
      ],
      "metadata": {
        "colab": {
          "base_uri": "https://localhost:8080/"
        },
        "id": "OxmZDxgsaTw5",
        "outputId": "e0da7d03-a3bd-4c74-d8d1-1512c70a8135"
      },
      "execution_count": 5,
      "outputs": [
        {
          "output_type": "stream",
          "name": "stdout",
          "text": [
            "\n",
            "Duplicate datetime index:\n",
            " 2020-01-01    0\n",
            "2020-01-02    1\n",
            "2020-01-02    2\n",
            "2020-01-02    3\n",
            "2020-01-03    4\n",
            "dtype: int64\n"
          ]
        }
      ]
    },
    {
      "cell_type": "code",
      "source": [
        "group=ts1.groupby(level=0)\n",
        "print(\"\\nRepeated date counts:\\n\",group.count())"
      ],
      "metadata": {
        "colab": {
          "base_uri": "https://localhost:8080/"
        },
        "id": "yfmjjm6UaWln",
        "outputId": "987ca840-f0e0-4e1f-9d61-ef3e0304f189"
      },
      "execution_count": 6,
      "outputs": [
        {
          "output_type": "stream",
          "name": "stdout",
          "text": [
            "\n",
            "Repeated date counts:\n",
            " 2020-01-01    1\n",
            "2020-01-02    3\n",
            "2020-01-03    1\n",
            "dtype: int64\n"
          ]
        }
      ]
    },
    {
      "cell_type": "code",
      "source": [
        "\n",
        "long_df=pd.DataFrame(np.random.randn(10,4),index=da,columns=list(\"ABCD\"))\n",
        "print(\"\\nMulti-column DataFrame with datatime index:\\n\",long_df)"
      ],
      "metadata": {
        "colab": {
          "base_uri": "https://localhost:8080/"
        },
        "id": "abR7ng59acDr",
        "outputId": "85d8c1a5-e7de-4d80-d83b-ad8034e2847a"
      },
      "execution_count": 8,
      "outputs": [
        {
          "output_type": "stream",
          "name": "stdout",
          "text": [
            "\n",
            "Multi-column DataFrame with datatime index:\n",
            "                    A         B         C         D\n",
            "2022-10-02 -0.076272  0.852637  0.003981  0.170415\n",
            "2022-10-09  0.315442 -1.517366  1.273995 -0.141064\n",
            "2022-10-16  0.048799 -1.577148  0.948899  1.205705\n",
            "2022-10-23  0.200014  0.436040 -0.265968 -0.706484\n",
            "2022-10-30 -0.026693 -0.810723  0.372779 -1.628094\n",
            "2022-11-06 -0.310343 -0.246209 -1.334173 -0.806590\n",
            "2022-11-13 -1.909483  0.537352  0.216345 -0.910542\n",
            "2022-11-20  1.423831  0.440564 -1.214282 -0.632358\n",
            "2022-11-27 -0.578869 -0.260132  1.153113  0.152198\n",
            "2022-12-04  1.140003 -0.058451 -0.004725 -0.323454\n"
          ]
        }
      ]
    },
    {
      "cell_type": "code",
      "source": [],
      "metadata": {
        "id": "odq-MIoaaewx"
      },
      "execution_count": null,
      "outputs": []
    }
  ]
}